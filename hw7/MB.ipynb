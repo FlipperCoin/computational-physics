{
 "cells": [
  {
   "cell_type": "code",
   "execution_count": 2,
   "metadata": {},
   "outputs": [],
   "source": [
    "import numpy as np\n",
    "import matplotlib.pyplot as plt\n",
    "from random import random\n",
    "from matplotlib.animation import FuncAnimation"
   ]
  },
  {
   "cell_type": "code",
   "execution_count": 3,
   "metadata": {},
   "outputs": [],
   "source": [
    "v0 = 1\n",
    "m = 1\n",
    "KbT = (1/3)*m*v0**2\n",
    "N = int(1e5)"
   ]
  },
  {
   "cell_type": "code",
   "execution_count": 4,
   "metadata": {},
   "outputs": [],
   "source": [
    "def mb(v):\n",
    "    return (m/(2*np.pi*KbT))**(3/2)*4*np.pi*v**2*np.exp(-m*v**2/(2*KbT))"
   ]
  },
  {
   "cell_type": "code",
   "execution_count": 5,
   "metadata": {},
   "outputs": [],
   "source": [
    "def energy(prtcls):\n",
    "    return np.sum(0.5 * m * (prtcls[:, 0]**2 + prtcls[:, 1]**2 + prtcls[:, 2]**2))\n",
    "\n",
    "def momentum(prtcls):\n",
    "    return m * np.sum(prtcls, 0)\n",
    "\n",
    "def velocity(prtcls):\n",
    "    return np.sqrt(prtcls[:, 0]**2 + prtcls[:, 1]**2 + prtcls[:, 2]**2)"
   ]
  },
  {
   "cell_type": "code",
   "execution_count": 6,
   "metadata": {},
   "outputs": [],
   "source": [
    "def rand_v(v):\n",
    "    phi = 2*np.pi*random()\n",
    "    theta = np.arccos(2*random() - 1)\n",
    "    return (v*np.sin(theta)*np.cos(phi), v*np.sin(theta)*np.sin(phi), v*np.cos(theta))"
   ]
  },
  {
   "cell_type": "code",
   "execution_count": 7,
   "metadata": {},
   "outputs": [],
   "source": [
    "def init(N):\n",
    "    prtcls = np.zeros((N,3))\n",
    "\n",
    "    for i in range(N):\n",
    "        prtcls[i][0], prtcls[i][1], prtcls[i][2] = rand_v(v0)\n",
    "\n",
    "    return prtcls"
   ]
  },
  {
   "cell_type": "code",
   "execution_count": 8,
   "metadata": {},
   "outputs": [],
   "source": [
    "def collide(prtcls):\n",
    "    prt1 = int(np.round((N-1)*random()))\n",
    "    prt2 = int(np.round((N-1)*random()))\n",
    "    while prt1 == prt2:\n",
    "        prt2 = int(np.round((N-1)*random()))\n",
    "    \n",
    "    v1 = prtcls[prt1]\n",
    "    v2 = prtcls[prt2]\n",
    "\n",
    "    vcm = 0.5*(v1 + v2)\n",
    "    v1_c = v1 - vcm\n",
    "    v2_c = v2 - vcm\n",
    "\n",
    "    v1_c_new = np.array(rand_v(np.sqrt(np.sum(v1_c**2))))\n",
    "    v2_c_new = -v1_c_new\n",
    "\n",
    "    v1_new = v1_c_new + vcm\n",
    "    v2_new = v2_c_new + vcm\n",
    "\n",
    "    prtcls[prt1] = v1_new\n",
    "    prtcls[prt2] = v2_new\n"
   ]
  },
  {
   "cell_type": "code",
   "execution_count": 9,
   "metadata": {},
   "outputs": [
    {
     "name": "stdout",
     "output_type": "stream",
     "text": [
      "50000.0\n",
      "[ -37.25676369 -276.6104244   -44.96396425]\n"
     ]
    },
    {
     "ename": "KeyboardInterrupt",
     "evalue": "",
     "output_type": "error",
     "traceback": [
      "\u001b[0;31m---------------------------------------------------------------------------\u001b[0m",
      "\u001b[0;31mKeyboardInterrupt\u001b[0m                         Traceback (most recent call last)",
      "\u001b[1;32m/mnt/c/Users/Itai/source/repos/computational-physics/hw7/MB.ipynb Cell 8\u001b[0m in \u001b[0;36m<cell line: 13>\u001b[0;34m()\u001b[0m\n\u001b[1;32m     <a href='vscode-notebook-cell://wsl%2Bubuntu/mnt/c/Users/Itai/source/repos/computational-physics/hw7/MB.ipynb#X10sdnNjb2RlLXJlbW90ZQ%3D%3D?line=11'>12</a>\u001b[0m prtcls_m \u001b[39m=\u001b[39m np\u001b[39m.\u001b[39mzeros((\u001b[39mlen\u001b[39m(M),) \u001b[39m+\u001b[39m prtcls\u001b[39m.\u001b[39mshape)\n\u001b[1;32m     <a href='vscode-notebook-cell://wsl%2Bubuntu/mnt/c/Users/Itai/source/repos/computational-physics/hw7/MB.ipynb#X10sdnNjb2RlLXJlbW90ZQ%3D%3D?line=12'>13</a>\u001b[0m \u001b[39mfor\u001b[39;00m i \u001b[39min\u001b[39;00m \u001b[39mrange\u001b[39m(\u001b[39mlen\u001b[39m(M)):\n\u001b[0;32m---> <a href='vscode-notebook-cell://wsl%2Bubuntu/mnt/c/Users/Itai/source/repos/computational-physics/hw7/MB.ipynb#X10sdnNjb2RlLXJlbW90ZQ%3D%3D?line=13'>14</a>\u001b[0m     prtcls_m[i] \u001b[39m=\u001b[39m calc_mb(M[i])\n",
      "\u001b[1;32m/mnt/c/Users/Itai/source/repos/computational-physics/hw7/MB.ipynb Cell 8\u001b[0m in \u001b[0;36mcalc_mb\u001b[0;34m(m)\u001b[0m\n\u001b[1;32m      <a href='vscode-notebook-cell://wsl%2Bubuntu/mnt/c/Users/Itai/source/repos/computational-physics/hw7/MB.ipynb#X10sdnNjb2RlLXJlbW90ZQ%3D%3D?line=6'>7</a>\u001b[0m \u001b[39mdef\u001b[39;00m \u001b[39mcalc_mb\u001b[39m(m):\n\u001b[1;32m      <a href='vscode-notebook-cell://wsl%2Bubuntu/mnt/c/Users/Itai/source/repos/computational-physics/hw7/MB.ipynb#X10sdnNjb2RlLXJlbW90ZQ%3D%3D?line=7'>8</a>\u001b[0m     \u001b[39mfor\u001b[39;00m i \u001b[39min\u001b[39;00m \u001b[39mrange\u001b[39m(\u001b[39mint\u001b[39m(m)):\n\u001b[0;32m----> <a href='vscode-notebook-cell://wsl%2Bubuntu/mnt/c/Users/Itai/source/repos/computational-physics/hw7/MB.ipynb#X10sdnNjb2RlLXJlbW90ZQ%3D%3D?line=8'>9</a>\u001b[0m         collide(prtcls)\n\u001b[1;32m     <a href='vscode-notebook-cell://wsl%2Bubuntu/mnt/c/Users/Itai/source/repos/computational-physics/hw7/MB.ipynb#X10sdnNjb2RlLXJlbW90ZQ%3D%3D?line=9'>10</a>\u001b[0m     \u001b[39mreturn\u001b[39;00m np\u001b[39m.\u001b[39marray(prtcls)\n",
      "\u001b[1;32m/mnt/c/Users/Itai/source/repos/computational-physics/hw7/MB.ipynb Cell 8\u001b[0m in \u001b[0;36mcollide\u001b[0;34m(prtcls)\u001b[0m\n\u001b[1;32m      <a href='vscode-notebook-cell://wsl%2Bubuntu/mnt/c/Users/Itai/source/repos/computational-physics/hw7/MB.ipynb#X10sdnNjb2RlLXJlbW90ZQ%3D%3D?line=0'>1</a>\u001b[0m \u001b[39mdef\u001b[39;00m \u001b[39mcollide\u001b[39m(prtcls):\n\u001b[1;32m      <a href='vscode-notebook-cell://wsl%2Bubuntu/mnt/c/Users/Itai/source/repos/computational-physics/hw7/MB.ipynb#X10sdnNjb2RlLXJlbW90ZQ%3D%3D?line=1'>2</a>\u001b[0m     prt1 \u001b[39m=\u001b[39m \u001b[39mint\u001b[39m(np\u001b[39m.\u001b[39mround((N\u001b[39m-\u001b[39m\u001b[39m1\u001b[39m)\u001b[39m*\u001b[39mrandom()))\n\u001b[0;32m----> <a href='vscode-notebook-cell://wsl%2Bubuntu/mnt/c/Users/Itai/source/repos/computational-physics/hw7/MB.ipynb#X10sdnNjb2RlLXJlbW90ZQ%3D%3D?line=2'>3</a>\u001b[0m     prt2 \u001b[39m=\u001b[39m \u001b[39mint\u001b[39m(np\u001b[39m.\u001b[39;49mround((N\u001b[39m-\u001b[39;49m\u001b[39m1\u001b[39;49m)\u001b[39m*\u001b[39;49mrandom()))\n\u001b[1;32m      <a href='vscode-notebook-cell://wsl%2Bubuntu/mnt/c/Users/Itai/source/repos/computational-physics/hw7/MB.ipynb#X10sdnNjb2RlLXJlbW90ZQ%3D%3D?line=3'>4</a>\u001b[0m     \u001b[39mwhile\u001b[39;00m prt1 \u001b[39m==\u001b[39m prt2:\n\u001b[1;32m      <a href='vscode-notebook-cell://wsl%2Bubuntu/mnt/c/Users/Itai/source/repos/computational-physics/hw7/MB.ipynb#X10sdnNjb2RlLXJlbW90ZQ%3D%3D?line=4'>5</a>\u001b[0m         prt2 \u001b[39m=\u001b[39m \u001b[39mint\u001b[39m(np\u001b[39m.\u001b[39mround((N\u001b[39m-\u001b[39m\u001b[39m1\u001b[39m)\u001b[39m*\u001b[39mrandom()))\n",
      "File \u001b[0;32m<__array_function__ internals>:180\u001b[0m, in \u001b[0;36mround_\u001b[0;34m(*args, **kwargs)\u001b[0m\n",
      "File \u001b[0;32m~/.pyenv/versions/3.10.4/lib/python3.10/site-packages/numpy/core/fromnumeric.py:3773\u001b[0m, in \u001b[0;36mround_\u001b[0;34m(a, decimals, out)\u001b[0m\n\u001b[1;32m   3764\u001b[0m \u001b[39m@array_function_dispatch\u001b[39m(_around_dispatcher)\n\u001b[1;32m   3765\u001b[0m \u001b[39mdef\u001b[39;00m \u001b[39mround_\u001b[39m(a, decimals\u001b[39m=\u001b[39m\u001b[39m0\u001b[39m, out\u001b[39m=\u001b[39m\u001b[39mNone\u001b[39;00m):\n\u001b[1;32m   3766\u001b[0m     \u001b[39m\"\"\"\u001b[39;00m\n\u001b[1;32m   3767\u001b[0m \u001b[39m    Round an array to the given number of decimals.\u001b[39;00m\n\u001b[1;32m   3768\u001b[0m \n\u001b[0;32m   (...)\u001b[0m\n\u001b[1;32m   3771\u001b[0m \u001b[39m    around : equivalent function; see for details.\u001b[39;00m\n\u001b[1;32m   3772\u001b[0m \u001b[39m    \"\"\"\u001b[39;00m\n\u001b[0;32m-> 3773\u001b[0m     \u001b[39mreturn\u001b[39;00m around(a, decimals\u001b[39m=\u001b[39;49mdecimals, out\u001b[39m=\u001b[39;49mout)\n",
      "File \u001b[0;32m<__array_function__ internals>:180\u001b[0m, in \u001b[0;36maround\u001b[0;34m(*args, **kwargs)\u001b[0m\n",
      "File \u001b[0;32m~/.pyenv/versions/3.10.4/lib/python3.10/site-packages/numpy/core/fromnumeric.py:3348\u001b[0m, in \u001b[0;36maround\u001b[0;34m(a, decimals, out)\u001b[0m\n\u001b[1;32m   3257\u001b[0m \u001b[39m@array_function_dispatch\u001b[39m(_around_dispatcher)\n\u001b[1;32m   3258\u001b[0m \u001b[39mdef\u001b[39;00m \u001b[39maround\u001b[39m(a, decimals\u001b[39m=\u001b[39m\u001b[39m0\u001b[39m, out\u001b[39m=\u001b[39m\u001b[39mNone\u001b[39;00m):\n\u001b[1;32m   3259\u001b[0m     \u001b[39m\"\"\"\u001b[39;00m\n\u001b[1;32m   3260\u001b[0m \u001b[39m    Evenly round to the given number of decimals.\u001b[39;00m\n\u001b[1;32m   3261\u001b[0m \n\u001b[0;32m   (...)\u001b[0m\n\u001b[1;32m   3346\u001b[0m \n\u001b[1;32m   3347\u001b[0m \u001b[39m    \"\"\"\u001b[39;00m\n\u001b[0;32m-> 3348\u001b[0m     \u001b[39mreturn\u001b[39;00m _wrapfunc(a, \u001b[39m'\u001b[39;49m\u001b[39mround\u001b[39;49m\u001b[39m'\u001b[39;49m, decimals\u001b[39m=\u001b[39;49mdecimals, out\u001b[39m=\u001b[39;49mout)\n",
      "File \u001b[0;32m~/.pyenv/versions/3.10.4/lib/python3.10/site-packages/numpy/core/fromnumeric.py:54\u001b[0m, in \u001b[0;36m_wrapfunc\u001b[0;34m(obj, method, *args, **kwds)\u001b[0m\n\u001b[1;32m     52\u001b[0m bound \u001b[39m=\u001b[39m \u001b[39mgetattr\u001b[39m(obj, method, \u001b[39mNone\u001b[39;00m)\n\u001b[1;32m     53\u001b[0m \u001b[39mif\u001b[39;00m bound \u001b[39mis\u001b[39;00m \u001b[39mNone\u001b[39;00m:\n\u001b[0;32m---> 54\u001b[0m     \u001b[39mreturn\u001b[39;00m _wrapit(obj, method, \u001b[39m*\u001b[39;49margs, \u001b[39m*\u001b[39;49m\u001b[39m*\u001b[39;49mkwds)\n\u001b[1;32m     56\u001b[0m \u001b[39mtry\u001b[39;00m:\n\u001b[1;32m     57\u001b[0m     \u001b[39mreturn\u001b[39;00m bound(\u001b[39m*\u001b[39margs, \u001b[39m*\u001b[39m\u001b[39m*\u001b[39mkwds)\n",
      "File \u001b[0;32m~/.pyenv/versions/3.10.4/lib/python3.10/site-packages/numpy/core/fromnumeric.py:43\u001b[0m, in \u001b[0;36m_wrapit\u001b[0;34m(obj, method, *args, **kwds)\u001b[0m\n\u001b[1;32m     41\u001b[0m \u001b[39mexcept\u001b[39;00m \u001b[39mAttributeError\u001b[39;00m:\n\u001b[1;32m     42\u001b[0m     wrap \u001b[39m=\u001b[39m \u001b[39mNone\u001b[39;00m\n\u001b[0;32m---> 43\u001b[0m result \u001b[39m=\u001b[39m \u001b[39mgetattr\u001b[39;49m(asarray(obj), method)(\u001b[39m*\u001b[39;49margs, \u001b[39m*\u001b[39;49m\u001b[39m*\u001b[39;49mkwds)\n\u001b[1;32m     44\u001b[0m \u001b[39mif\u001b[39;00m wrap:\n\u001b[1;32m     45\u001b[0m     \u001b[39mif\u001b[39;00m \u001b[39mnot\u001b[39;00m \u001b[39misinstance\u001b[39m(result, mu\u001b[39m.\u001b[39mndarray):\n",
      "\u001b[0;31mKeyboardInterrupt\u001b[0m: "
     ]
    }
   ],
   "source": [
    "prtcls = init(N)\n",
    "M = np.round(np.logspace(2,5,100))\n",
    "\n",
    "print(energy(prtcls))\n",
    "print(momentum(prtcls))\n",
    "\n",
    "def calc_mb(m):\n",
    "    for i in range(int(m)):\n",
    "        collide(prtcls)\n",
    "    return np.array(prtcls)\n",
    "\n",
    "prtcls_m = np.zeros((len(M),) + prtcls.shape)\n",
    "for i in range(len(M)):\n",
    "    prtcls_m[i] = calc_mb(M[i])\n",
    "    \n"
   ]
  },
  {
   "cell_type": "code",
   "execution_count": 10,
   "metadata": {},
   "outputs": [
    {
     "name": "stdout",
     "output_type": "stream",
     "text": [
      "50000.0\n",
      "[ -64.36980073 -205.79776115 -203.48853694]\n",
      "50000.000000000015\n",
      "[ -64.36980073 -205.79776115 -203.48853694]\n"
     ]
    }
   ],
   "source": [
    "prtcls = init(N)\n",
    "\n",
    "M = 500000\n",
    "step = 500\n",
    "\n",
    "print(energy(prtcls))\n",
    "print(momentum(prtcls))\n",
    "\n",
    "def collide_step():\n",
    "    for i in range(step):\n",
    "        collide(prtcls)\n",
    "    return np.array(prtcls)\n",
    "\n",
    "prtcls_m = np.zeros((int(M/step),) + prtcls.shape)\n",
    "for i in range(int(M/step)):\n",
    "    prtcls_m[i] = collide_step()\n",
    "    \n",
    "print(energy(prtcls_m[-1]))\n",
    "print(momentum(prtcls_m[-1]))\n"
   ]
  },
  {
   "cell_type": "code",
   "execution_count": 36,
   "metadata": {},
   "outputs": [
    {
     "data": {
      "text/plain": [
       "array([0.237958  , 0.14016016, 0.01074945])"
      ]
     },
     "execution_count": 36,
     "metadata": {},
     "output_type": "execute_result"
    }
   ],
   "source": [
    "(prtcls_m[0][202]**2)"
   ]
  },
  {
   "cell_type": "code",
   "execution_count": 32,
   "metadata": {},
   "outputs": [
    {
     "data": {
      "text/plain": [
       "(array([  202,   530,   982,  1599,  1752,  2319,  2839,  2932,  3271,\n",
       "         3277,  3561,  3661,  3983,  4058,  4436,  4568,  4612,  4825,\n",
       "         4919,  4933,  4951,  5316,  5774,  6179,  6856,  6927,  7158,\n",
       "         7179,  7635,  7820,  7889,  8333,  8459,  8599,  8852,  9310,\n",
       "        10237, 10967, 11104, 11741, 12191, 12346, 13155, 13185, 13209,\n",
       "        13317, 14737, 15344, 16009, 16300, 16349, 16690, 16811, 17177,\n",
       "        17217, 17277, 17468, 17821, 18023, 18695, 18968, 19054, 19162,\n",
       "        19457, 20839, 20906, 21558, 21837, 21918, 22059, 22528, 23605,\n",
       "        23787, 23880, 24017, 24266, 24284, 24921, 25277, 25532, 26201,\n",
       "        26279, 26379, 26630, 27764, 27809, 27902, 28175, 28327, 28407,\n",
       "        28590, 29049, 29132, 29136, 29336, 29533, 30175, 30487, 30904,\n",
       "        31246, 31252, 31870, 32065, 32336, 32470, 32483, 32895, 32973,\n",
       "        33295, 33604, 33643, 33688, 33697, 33854, 34115, 34782, 34818,\n",
       "        35807, 35819, 36186, 36605, 36774, 37861, 38049, 38186, 39304,\n",
       "        39427, 39724, 39895, 40128, 40346, 40480, 40682, 40754, 41068,\n",
       "        41230, 41781, 42106, 42140, 42725, 43572, 43701, 43762, 43795,\n",
       "        43808, 43892, 44145, 44669, 44850, 44898, 46384, 46444, 46673,\n",
       "        47708, 47779, 47882, 48149, 48246, 48907, 49081, 49668, 49913,\n",
       "        49997, 51315, 51564, 51588, 52444, 52462, 52749, 53358, 53406,\n",
       "        54075, 54259, 54349, 54515, 54537, 55066, 55400, 55412, 55718,\n",
       "        55746, 55849, 55890, 56458, 56594, 57260, 57763, 57768, 57769,\n",
       "        58562, 58874, 58915, 59316, 59323, 59368, 60587, 60702, 60744,\n",
       "        60800, 60951, 60964, 61217, 61409, 61514, 61698, 62413, 63111,\n",
       "        63164, 64142, 65261, 65926, 66465, 67432, 67964, 68082, 68254,\n",
       "        68640, 68709, 69431, 69469, 69662, 70046, 70402, 70795, 71003,\n",
       "        71026, 71075, 71226, 71408, 71723, 71729, 71897, 72159, 72468,\n",
       "        72488, 72988, 73804, 73855, 73939, 74065, 74388, 74928, 75242,\n",
       "        75598, 75762, 76610, 76698, 77458, 77496, 77814, 77921, 78141,\n",
       "        79442, 79524, 79627, 79637, 80091, 80242, 80260, 80466, 80712,\n",
       "        80772, 80973, 81355, 81429, 81557, 81583, 81662, 82113, 82251,\n",
       "        82327, 82858, 83152, 83389, 83902, 84267, 84314, 84665, 86221,\n",
       "        86592, 87171, 87369, 87943, 88309, 88501, 88505, 88641, 89256,\n",
       "        89572, 89782, 90511, 90602, 90662, 90895, 90911, 91221, 91511,\n",
       "        91836, 92107, 92261, 92342, 92667, 92990, 93562, 93781, 93813,\n",
       "        93939, 94239, 95666, 95669, 95932, 96906, 97061, 97522, 97632,\n",
       "        98125, 98823, 99099]),)"
      ]
     },
     "execution_count": 32,
     "metadata": {},
     "output_type": "execute_result"
    }
   ],
   "source": [
    "np.where(np.abs(np.sum(prtcls_m[0]**2,1) - 1) > 0.5)"
   ]
  },
  {
   "cell_type": "code",
   "execution_count": 13,
   "metadata": {},
   "outputs": [
    {
     "name": "stderr",
     "output_type": "stream",
     "text": [
      "/tmp/ipykernel_610/1300750317.py:12: UserWarning: Matplotlib is currently using module://matplotlib_inline.backend_inline, which is a non-GUI backend, so cannot show the figure.\n",
      "  fig.show()\n"
     ]
    },
    {
     "data": {
      "image/png": "[encoded data removed]",
      "text/plain": [
       "<Figure size 432x288 with 1 Axes>"
      ]
     },
     "metadata": {
      "needs_background": "light"
     },
     "output_type": "display_data"
    }
   ],
   "source": [
    "v = np.linspace(0,3)\n",
    "\n",
    "fig, ax = plt.subplots()\n",
    "ax.clear()\n",
    "ax.plot(v, mb(v), '--', label='MB distribution')\n",
    "ax.hist(velocity(prtcls_m[0]), bins=40, density=True, color='c', label='particles (normalized)')\n",
    "ax.set_ylim(top=1.1)\n",
    "ax.set_xlabel('v')\n",
    "ax.set_ylabel(r'density')\n",
    "ax.legend()\n",
    "fig.savefig('figures/delta.png', dpi=120)\n",
    "fig.show()"
   ]
  },
  {
   "cell_type": "code",
   "execution_count": 19,
   "metadata": {},
   "outputs": [
    {
     "name": "stderr",
     "output_type": "stream",
     "text": [
      "/tmp/ipykernel_610/2959555237.py:12: UserWarning: Matplotlib is currently using module://matplotlib_inline.backend_inline, which is a non-GUI backend, so cannot show the figure.\n",
      "  fig.show()\n"
     ]
    },
    {
     "data": {
      "image/png": "[encoded data removed]",
      "text/plain": [
       "<Figure size 432x288 with 1 Axes>"
      ]
     },
     "metadata": {
      "needs_background": "light"
     },
     "output_type": "display_data"
    }
   ],
   "source": [
    "v = np.linspace(0,3)\n",
    "\n",
    "fig, ax = plt.subplots()\n",
    "ax.clear()\n",
    "ax.plot(v, mb(v), '--', label='MB distribution')\n",
    "ax.hist(velocity(prtcls_m[200]), bins=40, density=True, color='c', label='particles (normalized)')\n",
    "ax.set_ylim(top=1.1)\n",
    "ax.set_xlabel('v')\n",
    "ax.set_ylabel(r'density')\n",
    "ax.legend()\n",
    "fig.savefig('figures/mb_half.png', dpi=120)\n",
    "fig.show()"
   ]
  },
  {
   "cell_type": "code",
   "execution_count": null,
   "metadata": {},
   "outputs": [
    {
     "name": "stderr",
     "output_type": "stream",
     "text": [
      "/tmp/ipykernel_610/786807246.py:12: UserWarning: Matplotlib is currently using module://matplotlib_inline.backend_inline, which is a non-GUI backend, so cannot show the figure.\n",
      "  fig.show()\n"
     ]
    },
    {
     "data": {
      "image/png": "[encoded data removed]",
      "text/plain": [
       "<Figure size 432x288 with 1 Axes>"
      ]
     },
     "metadata": {},
     "output_type": "display_data"
    }
   ],
   "source": [
    "v = np.linspace(0,3)\n",
    "\n",
    "fig, ax = plt.subplots()\n",
    "ax.clear()\n",
    "ax.plot(v, mb(v), '--', label='MB distribution')\n",
    "ax.hist(velocity(prtcls_m[-1]), bins=40, density=True, color='c', label='particles (normalized)')\n",
    "ax.set_ylim(top=1.1)\n",
    "ax.set_xlabel('v')\n",
    "ax.set_ylabel(r'density')\n",
    "ax.legend()\n",
    "fig.savefig('figures/mb.png', dpi=120)\n",
    "fig.show()"
   ]
  },
  {
   "cell_type": "code",
   "execution_count": 157,
   "metadata": {},
   "outputs": [
    {
     "name": "stderr",
     "output_type": "stream",
     "text": [
      "MovieWriter ffmpeg unavailable; using Pillow instead.\n",
      "/tmp/ipykernel_851/2425974742.py:14: UserWarning: Matplotlib is currently using module://matplotlib_inline.backend_inline, which is a non-GUI backend, so cannot show the figure.\n",
      "  fig.show()\n"
     ]
    },
    {
     "data": {
      "image/png": "[encoded data removed]",
      "text/plain": [
       "<Figure size 432x288 with 1 Axes>"
      ]
     },
     "metadata": {
      "needs_background": "light"
     },
     "output_type": "display_data"
    }
   ],
   "source": [
    "v = np.linspace(0,3)\n",
    "\n",
    "fig, ax = plt.subplots()\n",
    "\n",
    "def animate(i):\n",
    "    ax.clear()\n",
    "    ax.plot(v, mb(v), '--')\n",
    "    ax.hist(velocity(prtcls_m[i]), bins=30, density=True, color='c')\n",
    "    ax.set_ylim(top=1.1)\n",
    "    ax.set_xlabel('v')\n",
    "    ax.set_ylabel(r'density')\n",
    "\n",
    "ani = FuncAnimation(fig, animate, frames=len(prtcls_m), interval=50, repeat=False)\n",
    "ani.save('animations/mb.gif')\n",
    "fig.show()\n",
    "\n"
   ]
  },
  {
   "cell_type": "code",
   "execution_count": 156,
   "metadata": {},
   "outputs": [
    {
     "data": {
      "text/plain": [
       "1000"
      ]
     },
     "execution_count": 156,
     "metadata": {},
     "output_type": "execute_result"
    }
   ],
   "source": [
    "len(prtcls_m)"
   ]
  }
 ],
 "metadata": {
  "kernelspec": {
   "display_name": "Python 3",
   "language": "python",
   "name": "python3"
  },
  "language_info": {
   "codemirror_mode": {
    "name": "ipython",
    "version": 3
   },
   "file_extension": ".py",
   "mimetype": "text/x-python",
   "name": "python",
   "nbconvert_exporter": "python",
   "pygments_lexer": "ipython3",
   "version": "3.10.4"
  },
  "orig_nbformat": 4,
  "vscode": {
   "interpreter": {
    "hash": "d80eef53b0d2db64c8768e2c039c143f76e8b970c8d435280842babd24e46d34"
   }
  }
 },
 "nbformat": 4,
 "nbformat_minor": 2
}
