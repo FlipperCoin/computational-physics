{
 "cells": [
  {
   "cell_type": "code",
   "execution_count": 2,
   "metadata": {},
   "outputs": [],
   "source": [
    "import numpy as np\n",
    "import matplotlib.pyplot as plt\n",
    "from random import random\n",
    "from matplotlib.animation import FuncAnimation"
   ]
  },
  {
   "cell_type": "code",
   "execution_count": 3,
   "metadata": {},
   "outputs": [],
   "source": [
    "v0 = 1\n",
    "m = 1\n",
    "KbT = (1/3)*m*v0**2\n",
    "N = int(1e5)"
   ]
  },
  {
   "cell_type": "code",
   "execution_count": 4,
   "metadata": {},
   "outputs": [],
   "source": [
    "def mb(v):\n",
    "    return (m/(2*np.pi*KbT))**(3/2)*4*np.pi*v**2*np.exp(-m*v**2/(2*KbT))"
   ]
  },
  {
   "cell_type": "code",
   "execution_count": 5,
   "metadata": {},
   "outputs": [],
   "source": [
    "def energy(prtcls):\n",
    "    return np.sum(0.5 * m * (prtcls[:, 0]**2 + prtcls[:, 1]**2 + prtcls[:, 2]**2))\n",
    "\n",
    "def momentum(prtcls):\n",
    "    return m * np.sum(prtcls, 0)\n",
    "\n",
    "def velocity(prtcls):\n",
    "    return np.sqrt(prtcls[:, 0]**2 + prtcls[:, 1]**2 + prtcls[:, 2]**2)"
   ]
  },
  {
   "cell_type": "code",
   "execution_count": 6,
   "metadata": {},
   "outputs": [],
   "source": [
    "def rand_v(v):\n",
    "    phi = 2*np.pi*random()\n",
    "    theta = np.arccos(2*random() - 1)\n",
    "    return (v*np.sin(theta)*np.cos(phi), v*np.sin(theta)*np.sin(phi), v*np.cos(theta))"
   ]
  },
  {
   "cell_type": "code",
   "execution_count": 7,
   "metadata": {},
   "outputs": [],
   "source": [
    "def init(N):\n",
    "    prtcls = np.zeros((N,3))\n",
    "\n",
    "    for i in range(N):\n",
    "        prtcls[i][0], prtcls[i][1], prtcls[i][2] = rand_v(v0)\n",
    "\n",
    "    return prtcls"
   ]
  },
  {
   "cell_type": "code",
   "execution_count": 8,
   "metadata": {},
   "outputs": [],
   "source": [
    "def collide(prtcls):\n",
    "    prt1 = int(np.round((N-1)*random()))\n",
    "    prt2 = int(np.round((N-1)*random()))\n",
    "    while prt1 == prt2:\n",
    "        prt2 = int(np.round((N-1)*random()))\n",
    "    \n",
    "    v1 = prtcls[prt1]\n",
    "    v2 = prtcls[prt2]\n",
    "\n",
    "    vcm = 0.5*(v1 + v2)\n",
    "    v1_c = v1 - vcm\n",
    "    v2_c = v2 - vcm\n",
    "\n",
    "    v1_c_new = np.array(rand_v(np.sqrt(np.sum(v1_c**2))))\n",
    "    v2_c_new = -v1_c_new\n",
    "\n",
    "    v1_new = v1_c_new + vcm\n",
    "    v2_new = v2_c_new + vcm\n",
    "\n",
    "    prtcls[prt1] = v1_new\n",
    "    prtcls[prt2] = v2_new\n"
   ]
  },
  {
   "cell_type": "code",
   "execution_count": 142,
   "metadata": {},
   "outputs": [
    {
     "name": "stdout",
     "output_type": "stream",
     "text": [
      "500.0\n",
      "[ 34.23115259 -49.52073936  -4.88761927]\n"
     ]
    }
   ],
   "source": [
    "prtcls = init(N)\n",
    "M = np.round(np.logspace(2,5,100))\n",
    "\n",
    "print(energy(prtcls))\n",
    "print(momentum(prtcls))\n",
    "\n",
    "def calc_mb(m):\n",
    "    for i in range(int(m)):\n",
    "        collide(prtcls)\n",
    "    return np.array(prtcls)\n",
    "\n",
    "prtcls_m = np.zeros((len(M),) + prtcls.shape)\n",
    "for i in range(len(M)):\n",
    "    prtcls_m[i] = calc_mb(M[i])\n",
    "    \n"
   ]
  },
  {
   "cell_type": "code",
   "execution_count": 9,
   "metadata": {},
   "outputs": [
    {
     "name": "stdout",
     "output_type": "stream",
     "text": [
      "50000.0\n",
      "[180.74694112  12.8495843   61.11517717]\n",
      "50000.00000000001\n",
      "[180.74694112  12.8495843   61.11517717]\n"
     ]
    }
   ],
   "source": [
    "prtcls = init(N)\n",
    "\n",
    "M = 500000\n",
    "step = 500\n",
    "\n",
    "print(energy(prtcls))\n",
    "print(momentum(prtcls))\n",
    "\n",
    "def collide_step():\n",
    "    for i in range(step):\n",
    "        collide(prtcls)\n",
    "    return np.array(prtcls)\n",
    "\n",
    "prtcls_m = np.zeros((int(M/step),) + prtcls.shape)\n",
    "for i in range(int(M/step)):\n",
    "    prtcls_m[i] = collide_step()\n",
    "    \n",
    "print(energy(prtcls_m[-1]))\n",
    "print(momentum(prtcls_m[-1]))\n"
   ]
  },
  {
   "cell_type": "code",
   "execution_count": 136,
   "metadata": {},
   "outputs": [],
   "source": [
    "mb_high = calc_mb(1e6)"
   ]
  },
  {
   "cell_type": "code",
   "execution_count": 11,
   "metadata": {},
   "outputs": [
    {
     "name": "stderr",
     "output_type": "stream",
     "text": [
      "/tmp/ipykernel_495/3317038871.py:12: UserWarning: Matplotlib is currently using module://matplotlib_inline.backend_inline, which is a non-GUI backend, so cannot show the figure.\n",
      "  fig.show()\n"
     ]
    },
    {
     "data": {
      "image/png": "[encoded data removed]",
      "text/plain": [
       "<Figure size 432x288 with 1 Axes>"
      ]
     },
     "metadata": {
      "needs_background": "light"
     },
     "output_type": "display_data"
    }
   ],
   "source": [
    "v = np.linspace(0,3)\n",
    "\n",
    "fig, ax = plt.subplots()\n",
    "ax.clear()\n",
    "ax.plot(v, mb(v), '--', label='MB distribution')\n",
    "ax.hist(velocity(prtcls_m[-1]), bins=40, density=True, color='c', label='particles (normalized)')\n",
    "ax.set_ylim(top=1.1)\n",
    "ax.set_xlabel('v')\n",
    "ax.set_ylabel(r'density')\n",
    "ax.legend()\n",
    "fig.savefig('figures/mb.png', dpi=120)\n",
    "fig.show()"
   ]
  },
  {
   "cell_type": "code",
   "execution_count": 157,
   "metadata": {},
   "outputs": [
    {
     "name": "stderr",
     "output_type": "stream",
     "text": [
      "MovieWriter ffmpeg unavailable; using Pillow instead.\n",
      "/tmp/ipykernel_851/2425974742.py:14: UserWarning: Matplotlib is currently using module://matplotlib_inline.backend_inline, which is a non-GUI backend, so cannot show the figure.\n",
      "  fig.show()\n"
     ]
    },
    {
     "data": {
      "image/png": "[encoded data removed]",
      "text/plain": [
       "<Figure size 432x288 with 1 Axes>"
      ]
     },
     "metadata": {
      "needs_background": "light"
     },
     "output_type": "display_data"
    }
   ],
   "source": [
    "v = np.linspace(0,3)\n",
    "\n",
    "fig, ax = plt.subplots()\n",
    "\n",
    "def animate(i):\n",
    "    ax.clear()\n",
    "    ax.plot(v, mb(v), '--')\n",
    "    ax.hist(velocity(prtcls_m[i]), bins=30, density=True, color='c')\n",
    "    ax.set_ylim(top=1.1)\n",
    "    ax.set_xlabel('v')\n",
    "    ax.set_ylabel(r'density')\n",
    "\n",
    "ani = FuncAnimation(fig, animate, frames=len(prtcls_m), interval=50, repeat=False)\n",
    "ani.save('animations/mb.gif')\n",
    "fig.show()\n",
    "\n"
   ]
  },
  {
   "cell_type": "code",
   "execution_count": 156,
   "metadata": {},
   "outputs": [
    {
     "data": {
      "text/plain": [
       "1000"
      ]
     },
     "execution_count": 156,
     "metadata": {},
     "output_type": "execute_result"
    }
   ],
   "source": [
    "len(prtcls_m)"
   ]
  }
 ],
 "metadata": {
  "kernelspec": {
   "display_name": "Python 3",
   "language": "python",
   "name": "python3"
  },
  "language_info": {
   "codemirror_mode": {
    "name": "ipython",
    "version": 3
   },
   "file_extension": ".py",
   "mimetype": "text/x-python",
   "name": "python",
   "nbconvert_exporter": "python",
   "pygments_lexer": "ipython3",
   "version": "3.10.4"
  },
  "orig_nbformat": 4,
  "vscode": {
   "interpreter": {
    "hash": "d80eef53b0d2db64c8768e2c039c143f76e8b970c8d435280842babd24e46d34"
   }
  }
 },
 "nbformat": 4,
 "nbformat_minor": 2
}
